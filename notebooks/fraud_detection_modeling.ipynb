{
 "cells": [
  {
   "cell_type": "markdown",
   "id": "521ae4ee",
   "metadata": {},
   "source": [
    "### 1. Load the CSV Data File into a Pandas DataFrame"
   ]
  },
  {
   "cell_type": "markdown",
   "id": "6002b239",
   "metadata": {},
   "source": [
    "**a. import Pandas**"
   ]
  },
  {
   "cell_type": "code",
   "execution_count": 1,
   "id": "69dd09a2",
   "metadata": {},
   "outputs": [],
   "source": [
    "import pandas as pd\n",
    "from sklearn.model_selection import train_test_split\n",
    "from sklearn.preprocessing import StandardScaler, LabelEncoder\n",
    "\n",
    "import seaborn as sns\n",
    "import matplotlib.pyplot as plt\n",
    "import joblib"
   ]
  },
  {
   "cell_type": "markdown",
   "id": "238f3205",
   "metadata": {},
   "source": [
    "**b. Read in the .csv file with pandas read_csv**"
   ]
  },
  {
   "cell_type": "code",
   "execution_count": 2,
   "id": "5771cee6",
   "metadata": {},
   "outputs": [
    {
     "data": {
      "text/html": [
       "<div>\n",
       "<style scoped>\n",
       "    .dataframe tbody tr th:only-of-type {\n",
       "        vertical-align: middle;\n",
       "    }\n",
       "\n",
       "    .dataframe tbody tr th {\n",
       "        vertical-align: top;\n",
       "    }\n",
       "\n",
       "    .dataframe thead th {\n",
       "        text-align: right;\n",
       "    }\n",
       "</style>\n",
       "<table border=\"1\" class=\"dataframe\">\n",
       "  <thead>\n",
       "    <tr style=\"text-align: right;\">\n",
       "      <th></th>\n",
       "      <th>trans_date_trans_time</th>\n",
       "      <th>cc_num</th>\n",
       "      <th>merchant</th>\n",
       "      <th>category</th>\n",
       "      <th>amt</th>\n",
       "      <th>first</th>\n",
       "      <th>last</th>\n",
       "      <th>gender</th>\n",
       "      <th>street</th>\n",
       "      <th>city</th>\n",
       "      <th>...</th>\n",
       "      <th>lat</th>\n",
       "      <th>long</th>\n",
       "      <th>city_pop</th>\n",
       "      <th>job</th>\n",
       "      <th>dob</th>\n",
       "      <th>trans_num</th>\n",
       "      <th>unix_time</th>\n",
       "      <th>merch_lat</th>\n",
       "      <th>merch_long</th>\n",
       "      <th>is_fraud</th>\n",
       "    </tr>\n",
       "  </thead>\n",
       "  <tbody>\n",
       "    <tr>\n",
       "      <th>0</th>\n",
       "      <td>2019-01-01 00:00:18</td>\n",
       "      <td>2703186189652095</td>\n",
       "      <td>fraud_Rippin, Kub and Mann</td>\n",
       "      <td>misc_net</td>\n",
       "      <td>4.97</td>\n",
       "      <td>Jennifer</td>\n",
       "      <td>Banks</td>\n",
       "      <td>F</td>\n",
       "      <td>561 Perry Cove</td>\n",
       "      <td>Moravian Falls</td>\n",
       "      <td>...</td>\n",
       "      <td>36.0788</td>\n",
       "      <td>-81.1781</td>\n",
       "      <td>3495</td>\n",
       "      <td>Psychologist, counselling</td>\n",
       "      <td>1988-03-09</td>\n",
       "      <td>0b242abb623afc578575680df30655b9</td>\n",
       "      <td>1325376018</td>\n",
       "      <td>36.011293</td>\n",
       "      <td>-82.048315</td>\n",
       "      <td>0</td>\n",
       "    </tr>\n",
       "    <tr>\n",
       "      <th>1</th>\n",
       "      <td>2019-01-01 00:18:07</td>\n",
       "      <td>343464013864032</td>\n",
       "      <td>fraud_Kunde-Sanford</td>\n",
       "      <td>misc_net</td>\n",
       "      <td>2.55</td>\n",
       "      <td>Jodi</td>\n",
       "      <td>Foster</td>\n",
       "      <td>F</td>\n",
       "      <td>551 Zachary Freeway</td>\n",
       "      <td>Bailey</td>\n",
       "      <td>...</td>\n",
       "      <td>35.8072</td>\n",
       "      <td>-78.0892</td>\n",
       "      <td>6629</td>\n",
       "      <td>Call centre manager</td>\n",
       "      <td>1962-08-13</td>\n",
       "      <td>abe0676c18f34fa305b113fa762e29b5</td>\n",
       "      <td>1325377087</td>\n",
       "      <td>36.749870</td>\n",
       "      <td>-78.677870</td>\n",
       "      <td>0</td>\n",
       "    </tr>\n",
       "    <tr>\n",
       "      <th>2</th>\n",
       "      <td>2019-01-01 00:37:18</td>\n",
       "      <td>4265776278887457</td>\n",
       "      <td>fraud_Pacocha-O'Reilly</td>\n",
       "      <td>grocery_pos</td>\n",
       "      <td>103.00</td>\n",
       "      <td>Christine</td>\n",
       "      <td>Best</td>\n",
       "      <td>F</td>\n",
       "      <td>68248 Deanna Land</td>\n",
       "      <td>Enola</td>\n",
       "      <td>...</td>\n",
       "      <td>35.2087</td>\n",
       "      <td>-92.2123</td>\n",
       "      <td>969</td>\n",
       "      <td>Physicist, medical</td>\n",
       "      <td>1954-01-05</td>\n",
       "      <td>289789e617eece42a9cafe36680b1b69</td>\n",
       "      <td>1325378238</td>\n",
       "      <td>35.034285</td>\n",
       "      <td>-92.343010</td>\n",
       "      <td>0</td>\n",
       "    </tr>\n",
       "    <tr>\n",
       "      <th>3</th>\n",
       "      <td>2019-01-01 00:56:59</td>\n",
       "      <td>571465035400</td>\n",
       "      <td>fraud_Reichert, Huels and Hoppe</td>\n",
       "      <td>shopping_net</td>\n",
       "      <td>113.40</td>\n",
       "      <td>Louis</td>\n",
       "      <td>Fisher</td>\n",
       "      <td>M</td>\n",
       "      <td>45654 Hess Rest</td>\n",
       "      <td>Fort Washakie</td>\n",
       "      <td>...</td>\n",
       "      <td>43.0048</td>\n",
       "      <td>-108.8964</td>\n",
       "      <td>1645</td>\n",
       "      <td>Freight forwarder</td>\n",
       "      <td>1976-02-26</td>\n",
       "      <td>9d660a18154a3ba5fe869f373c6f819c</td>\n",
       "      <td>1325379419</td>\n",
       "      <td>42.868965</td>\n",
       "      <td>-108.503350</td>\n",
       "      <td>0</td>\n",
       "    </tr>\n",
       "    <tr>\n",
       "      <th>4</th>\n",
       "      <td>2019-01-01 01:16:52</td>\n",
       "      <td>6593250708747804</td>\n",
       "      <td>fraud_Brekke and Sons</td>\n",
       "      <td>gas_transport</td>\n",
       "      <td>55.18</td>\n",
       "      <td>Melissa</td>\n",
       "      <td>Meza</td>\n",
       "      <td>F</td>\n",
       "      <td>244 Abbott Parkway</td>\n",
       "      <td>Loxahatchee</td>\n",
       "      <td>...</td>\n",
       "      <td>26.7383</td>\n",
       "      <td>-80.2760</td>\n",
       "      <td>26551</td>\n",
       "      <td>Paramedic</td>\n",
       "      <td>1977-01-04</td>\n",
       "      <td>3c6158c556727d527f8b51cc03b30236</td>\n",
       "      <td>1325380612</td>\n",
       "      <td>27.346033</td>\n",
       "      <td>-80.475563</td>\n",
       "      <td>0</td>\n",
       "    </tr>\n",
       "  </tbody>\n",
       "</table>\n",
       "<p>5 rows × 22 columns</p>\n",
       "</div>"
      ],
      "text/plain": [
       "  trans_date_trans_time            cc_num                         merchant  \\\n",
       "0   2019-01-01 00:00:18  2703186189652095       fraud_Rippin, Kub and Mann   \n",
       "1   2019-01-01 00:18:07   343464013864032              fraud_Kunde-Sanford   \n",
       "2   2019-01-01 00:37:18  4265776278887457           fraud_Pacocha-O'Reilly   \n",
       "3   2019-01-01 00:56:59      571465035400  fraud_Reichert, Huels and Hoppe   \n",
       "4   2019-01-01 01:16:52  6593250708747804            fraud_Brekke and Sons   \n",
       "\n",
       "        category     amt      first    last gender               street  \\\n",
       "0       misc_net    4.97   Jennifer   Banks      F       561 Perry Cove   \n",
       "1       misc_net    2.55       Jodi  Foster      F  551 Zachary Freeway   \n",
       "2    grocery_pos  103.00  Christine    Best      F    68248 Deanna Land   \n",
       "3   shopping_net  113.40      Louis  Fisher      M      45654 Hess Rest   \n",
       "4  gas_transport   55.18    Melissa    Meza      F   244 Abbott Parkway   \n",
       "\n",
       "             city  ...      lat      long  city_pop  \\\n",
       "0  Moravian Falls  ...  36.0788  -81.1781      3495   \n",
       "1          Bailey  ...  35.8072  -78.0892      6629   \n",
       "2           Enola  ...  35.2087  -92.2123       969   \n",
       "3   Fort Washakie  ...  43.0048 -108.8964      1645   \n",
       "4     Loxahatchee  ...  26.7383  -80.2760     26551   \n",
       "\n",
       "                         job         dob                         trans_num  \\\n",
       "0  Psychologist, counselling  1988-03-09  0b242abb623afc578575680df30655b9   \n",
       "1        Call centre manager  1962-08-13  abe0676c18f34fa305b113fa762e29b5   \n",
       "2         Physicist, medical  1954-01-05  289789e617eece42a9cafe36680b1b69   \n",
       "3          Freight forwarder  1976-02-26  9d660a18154a3ba5fe869f373c6f819c   \n",
       "4                  Paramedic  1977-01-04  3c6158c556727d527f8b51cc03b30236   \n",
       "\n",
       "    unix_time  merch_lat  merch_long  is_fraud  \n",
       "0  1325376018  36.011293  -82.048315         0  \n",
       "1  1325377087  36.749870  -78.677870         0  \n",
       "2  1325378238  35.034285  -92.343010         0  \n",
       "3  1325379419  42.868965 -108.503350         0  \n",
       "4  1325380612  27.346033  -80.475563         0  \n",
       "\n",
       "[5 rows x 22 columns]"
      ]
     },
     "execution_count": 2,
     "metadata": {},
     "output_type": "execute_result"
    }
   ],
   "source": [
    "data = pd.read_csv('../dataset/credit_card.csv')\n",
    "data.head(5)"
   ]
  },
  {
   "cell_type": "code",
   "execution_count": 3,
   "id": "38dd58de",
   "metadata": {},
   "outputs": [
    {
     "data": {
      "text/plain": [
       "(59073, 22)"
      ]
     },
     "execution_count": 3,
     "metadata": {},
     "output_type": "execute_result"
    }
   ],
   "source": [
    "data.shape"
   ]
  },
  {
   "cell_type": "markdown",
   "id": "08a15642",
   "metadata": {},
   "source": [
    "### 2. Find Statistical Properties of the DataFrame and Check NaN Values"
   ]
  },
  {
   "cell_type": "markdown",
   "id": "50a61d5c",
   "metadata": {},
   "source": [
    "**a. Create the statistical summaries:**\n",
    "\n"
   ]
  },
  {
   "cell_type": "code",
   "execution_count": 4,
   "id": "4f5eb27b",
   "metadata": {},
   "outputs": [
    {
     "data": {
      "text/html": [
       "<div>\n",
       "<style scoped>\n",
       "    .dataframe tbody tr th:only-of-type {\n",
       "        vertical-align: middle;\n",
       "    }\n",
       "\n",
       "    .dataframe tbody tr th {\n",
       "        vertical-align: top;\n",
       "    }\n",
       "\n",
       "    .dataframe thead th {\n",
       "        text-align: right;\n",
       "    }\n",
       "</style>\n",
       "<table border=\"1\" class=\"dataframe\">\n",
       "  <thead>\n",
       "    <tr style=\"text-align: right;\">\n",
       "      <th></th>\n",
       "      <th>cc_num</th>\n",
       "      <th>amt</th>\n",
       "      <th>zip</th>\n",
       "      <th>lat</th>\n",
       "      <th>long</th>\n",
       "      <th>city_pop</th>\n",
       "      <th>unix_time</th>\n",
       "      <th>merch_lat</th>\n",
       "      <th>merch_long</th>\n",
       "      <th>is_fraud</th>\n",
       "    </tr>\n",
       "  </thead>\n",
       "  <tbody>\n",
       "    <tr>\n",
       "      <th>count</th>\n",
       "      <td>5.907300e+04</td>\n",
       "      <td>59073.000000</td>\n",
       "      <td>59073.000000</td>\n",
       "      <td>59073.000000</td>\n",
       "      <td>59073.000000</td>\n",
       "      <td>5.907300e+04</td>\n",
       "      <td>5.907300e+04</td>\n",
       "      <td>59073.000000</td>\n",
       "      <td>59073.000000</td>\n",
       "      <td>59073.000000</td>\n",
       "    </tr>\n",
       "    <tr>\n",
       "      <th>mean</th>\n",
       "      <td>4.155063e+17</td>\n",
       "      <td>125.809682</td>\n",
       "      <td>48936.650805</td>\n",
       "      <td>38.535668</td>\n",
       "      <td>-90.300925</td>\n",
       "      <td>8.999355e+04</td>\n",
       "      <td>1.349139e+09</td>\n",
       "      <td>38.530650</td>\n",
       "      <td>-90.301737</td>\n",
       "      <td>0.127063</td>\n",
       "    </tr>\n",
       "    <tr>\n",
       "      <th>std</th>\n",
       "      <td>1.305091e+18</td>\n",
       "      <td>245.649462</td>\n",
       "      <td>26897.427002</td>\n",
       "      <td>5.082398</td>\n",
       "      <td>13.872055</td>\n",
       "      <td>3.056844e+05</td>\n",
       "      <td>1.296902e+07</td>\n",
       "      <td>5.118062</td>\n",
       "      <td>13.884615</td>\n",
       "      <td>0.333046</td>\n",
       "    </tr>\n",
       "    <tr>\n",
       "      <th>min</th>\n",
       "      <td>6.041621e+10</td>\n",
       "      <td>1.000000</td>\n",
       "      <td>1257.000000</td>\n",
       "      <td>20.027100</td>\n",
       "      <td>-165.672300</td>\n",
       "      <td>2.300000e+01</td>\n",
       "      <td>1.325376e+09</td>\n",
       "      <td>19.038876</td>\n",
       "      <td>-166.620488</td>\n",
       "      <td>0.000000</td>\n",
       "    </tr>\n",
       "    <tr>\n",
       "      <th>25%</th>\n",
       "      <td>1.800462e+14</td>\n",
       "      <td>11.510000</td>\n",
       "      <td>26292.000000</td>\n",
       "      <td>34.703100</td>\n",
       "      <td>-96.798000</td>\n",
       "      <td>7.410000e+02</td>\n",
       "      <td>1.338510e+09</td>\n",
       "      <td>34.795189</td>\n",
       "      <td>-96.904179</td>\n",
       "      <td>0.000000</td>\n",
       "    </tr>\n",
       "    <tr>\n",
       "      <th>50%</th>\n",
       "      <td>3.523898e+15</td>\n",
       "      <td>52.520000</td>\n",
       "      <td>48088.000000</td>\n",
       "      <td>39.319900</td>\n",
       "      <td>-87.456900</td>\n",
       "      <td>2.457000e+03</td>\n",
       "      <td>1.349187e+09</td>\n",
       "      <td>39.333993</td>\n",
       "      <td>-87.378850</td>\n",
       "      <td>0.000000</td>\n",
       "    </tr>\n",
       "    <tr>\n",
       "      <th>75%</th>\n",
       "      <td>4.642255e+15</td>\n",
       "      <td>101.050000</td>\n",
       "      <td>72042.000000</td>\n",
       "      <td>41.846700</td>\n",
       "      <td>-80.175200</td>\n",
       "      <td>2.032800e+04</td>\n",
       "      <td>1.359542e+09</td>\n",
       "      <td>41.918596</td>\n",
       "      <td>-80.285566</td>\n",
       "      <td>0.000000</td>\n",
       "    </tr>\n",
       "    <tr>\n",
       "      <th>max</th>\n",
       "      <td>4.992346e+18</td>\n",
       "      <td>14238.110000</td>\n",
       "      <td>99783.000000</td>\n",
       "      <td>66.693300</td>\n",
       "      <td>-67.950300</td>\n",
       "      <td>2.906700e+06</td>\n",
       "      <td>1.371816e+09</td>\n",
       "      <td>67.510267</td>\n",
       "      <td>-66.961923</td>\n",
       "      <td>1.000000</td>\n",
       "    </tr>\n",
       "  </tbody>\n",
       "</table>\n",
       "</div>"
      ],
      "text/plain": [
       "             cc_num           amt           zip           lat          long  \\\n",
       "count  5.907300e+04  59073.000000  59073.000000  59073.000000  59073.000000   \n",
       "mean   4.155063e+17    125.809682  48936.650805     38.535668    -90.300925   \n",
       "std    1.305091e+18    245.649462  26897.427002      5.082398     13.872055   \n",
       "min    6.041621e+10      1.000000   1257.000000     20.027100   -165.672300   \n",
       "25%    1.800462e+14     11.510000  26292.000000     34.703100    -96.798000   \n",
       "50%    3.523898e+15     52.520000  48088.000000     39.319900    -87.456900   \n",
       "75%    4.642255e+15    101.050000  72042.000000     41.846700    -80.175200   \n",
       "max    4.992346e+18  14238.110000  99783.000000     66.693300    -67.950300   \n",
       "\n",
       "           city_pop     unix_time     merch_lat    merch_long      is_fraud  \n",
       "count  5.907300e+04  5.907300e+04  59073.000000  59073.000000  59073.000000  \n",
       "mean   8.999355e+04  1.349139e+09     38.530650    -90.301737      0.127063  \n",
       "std    3.056844e+05  1.296902e+07      5.118062     13.884615      0.333046  \n",
       "min    2.300000e+01  1.325376e+09     19.038876   -166.620488      0.000000  \n",
       "25%    7.410000e+02  1.338510e+09     34.795189    -96.904179      0.000000  \n",
       "50%    2.457000e+03  1.349187e+09     39.333993    -87.378850      0.000000  \n",
       "75%    2.032800e+04  1.359542e+09     41.918596    -80.285566      0.000000  \n",
       "max    2.906700e+06  1.371816e+09     67.510267    -66.961923      1.000000  "
      ]
     },
     "execution_count": 4,
     "metadata": {},
     "output_type": "execute_result"
    }
   ],
   "source": [
    "data.describe()"
   ]
  },
  {
   "cell_type": "markdown",
   "id": "3524007f",
   "metadata": {},
   "source": [
    "**b. check all columns for null values**"
   ]
  },
  {
   "cell_type": "code",
   "execution_count": 5,
   "id": "afdf2a1b",
   "metadata": {},
   "outputs": [
    {
     "name": "stdout",
     "output_type": "stream",
     "text": [
      "<class 'pandas.core.frame.DataFrame'>\n",
      "RangeIndex: 59073 entries, 0 to 59072\n",
      "Data columns (total 22 columns):\n",
      " #   Column                 Non-Null Count  Dtype  \n",
      "---  ------                 --------------  -----  \n",
      " 0   trans_date_trans_time  59073 non-null  object \n",
      " 1   cc_num                 59073 non-null  int64  \n",
      " 2   merchant               59073 non-null  object \n",
      " 3   category               59073 non-null  object \n",
      " 4   amt                    59073 non-null  float64\n",
      " 5   first                  59073 non-null  object \n",
      " 6   last                   59073 non-null  object \n",
      " 7   gender                 59073 non-null  object \n",
      " 8   street                 59073 non-null  object \n",
      " 9   city                   59073 non-null  object \n",
      " 10  state                  59073 non-null  object \n",
      " 11  zip                    59073 non-null  int64  \n",
      " 12  lat                    59073 non-null  float64\n",
      " 13  long                   59073 non-null  float64\n",
      " 14  city_pop               59073 non-null  int64  \n",
      " 15  job                    59073 non-null  object \n",
      " 16  dob                    59073 non-null  object \n",
      " 17  trans_num              59073 non-null  object \n",
      " 18  unix_time              59073 non-null  int64  \n",
      " 19  merch_lat              59073 non-null  float64\n",
      " 20  merch_long             59073 non-null  float64\n",
      " 21  is_fraud               59073 non-null  int64  \n",
      "dtypes: float64(5), int64(5), object(12)\n",
      "memory usage: 9.9+ MB\n"
     ]
    }
   ],
   "source": [
    "data.info()"
   ]
  },
  {
   "cell_type": "markdown",
   "id": "2bdff65d",
   "metadata": {},
   "source": [
    "### 3. Check Average Values Spend Per Fraud"
   ]
  },
  {
   "cell_type": "markdown",
   "id": "57478ce9",
   "metadata": {},
   "source": [
    "a. We can use groupby() to separate based on the **is_fraud** column categories and then calculate the mean and median values:"
   ]
  },
  {
   "cell_type": "code",
   "execution_count": 6,
   "id": "dd516d3a",
   "metadata": {},
   "outputs": [
    {
     "name": "stdout",
     "output_type": "stream",
     "text": [
      "Median Spend per Fraud Category:\n",
      "is_fraud\n",
      "0     47.240\n",
      "1    396.505\n",
      "Name: amt, dtype: float64\n",
      "\n",
      "\n",
      "Mean Spend per Fraud Category:\n",
      "is_fraud\n",
      "0     66.784314\n",
      "1    531.320092\n",
      "Name: amt, dtype: float64\n"
     ]
    }
   ],
   "source": [
    "print(\"Median Spend per Fraud Category:\")\n",
    "print(data.groupby(\"is_fraud\")[\"amt\"].median())\n",
    "print('\\n')\n",
    "print(\"Mean Spend per Fraud Category:\")\n",
    "print(data.groupby(\"is_fraud\")[\"amt\"].mean())"
   ]
  },
  {
   "cell_type": "markdown",
   "id": "a27c2bb6",
   "metadata": {},
   "source": [
    "### 4. Calculate Total Fraud and Non-fraud Spend on a Specific Credit Card"
   ]
  },
  {
   "cell_type": "markdown",
   "id": "3a7fc090",
   "metadata": {},
   "source": [
    "**1. Filter and caculate sum on legitimate purchases:**"
   ]
  },
  {
   "cell_type": "code",
   "execution_count": 7,
   "id": "fdd56af9",
   "metadata": {},
   "outputs": [
    {
     "data": {
      "text/plain": [
       "11667.49"
      ]
     },
     "execution_count": 7,
     "metadata": {},
     "output_type": "execute_result"
    }
   ],
   "source": [
    "data[(data[\"cc_num\"] == 344709867813900) & (data[\"is_fraud\"] == 0)][\"amt\"].sum()"
   ]
  },
  {
   "cell_type": "markdown",
   "id": "ce562630",
   "metadata": {},
   "source": [
    "**2. Filter and calculate on fraud purchases:**"
   ]
  },
  {
   "cell_type": "code",
   "execution_count": 15,
   "id": "89177e3e",
   "metadata": {},
   "outputs": [
    {
     "data": {
      "text/plain": [
       "6450.280000000002"
      ]
     },
     "execution_count": 15,
     "metadata": {},
     "output_type": "execute_result"
    }
   ],
   "source": [
    "data[(data[\"cc_num\"] == 344709867813900) & (data[\"is_fraud\"] == 1)][\"amt\"].sum()"
   ]
  },
  {
   "cell_type": "code",
   "execution_count": 16,
   "id": "fb9d8535",
   "metadata": {},
   "outputs": [
    {
     "name": "stderr",
     "output_type": "stream",
     "text": [
      "C:\\Users\\gezahegne.wondachew\\AppData\\Local\\Temp\\ipykernel_33296\\1531169012.py:1: FutureWarning: The default value of numeric_only in DataFrameGroupBy.sum is deprecated. In a future version, numeric_only will default to False. Either specify numeric_only or select only columns which should be valid for the function.\n",
      "  data[(data[\"cc_num\"] == 344709867813900)].groupby('is_fraud').sum()[\"amt\"]\n"
     ]
    },
    {
     "data": {
      "text/plain": [
       "is_fraud\n",
       "0    11667.49\n",
       "1     6450.28\n",
       "Name: amt, dtype: float64"
      ]
     },
     "execution_count": 16,
     "metadata": {},
     "output_type": "execute_result"
    }
   ],
   "source": [
    "## Alternatively, we can use groupby to do both operations with a single line:\n",
    "data[(data[\"cc_num\"] == 344709867813900)].groupby('is_fraud').sum()[\"amt\"]"
   ]
  },
  {
   "cell_type": "markdown",
   "id": "fb26e608",
   "metadata": {},
   "source": [
    "**5. Clean Data Columns for further anaysis:**\n",
    "- Drop some columns whcih do not actually hold information relevant to the transaction being fraudulent."
   ]
  },
  {
   "cell_type": "code",
   "execution_count": 8,
   "id": "a3a27010",
   "metadata": {},
   "outputs": [],
   "source": [
    "## Drop the columns date portion of the timestamp\n",
    "data = data.drop([\"unix_time\", \"trans_num\"], axis=1)\n"
   ]
  },
  {
   "cell_type": "markdown",
   "id": "3b099506",
   "metadata": {},
   "source": [
    "Create some new features to indicate a specific category for time of day (to tell if the transaction occurred within a specific block of time in a day)\n",
    "To do this, clean the transaction time column (trans_date_trans_time) by binning the trans_date_trans_time column into 4 categories:\n",
    "\n",
    "- Category 1: 00:00:00 to 05:59:59\n",
    "\n",
    "- Category 2: 06:00:00 to 11:59:59\n",
    "\n",
    "- Category 3: 12:00:00 to 17:59:59\n",
    "\n",
    "- Category 4: 8:00:00 to 23:59:59"
   ]
  },
  {
   "cell_type": "code",
   "execution_count": 9,
   "id": "cf5455a5",
   "metadata": {},
   "outputs": [],
   "source": [
    "## Create a function to bin timestamps into categories\n",
    "data[\"trans_date_trans_time\"] = data[\"trans_date_trans_time\"].apply(lambda x: x.split(\" \")[1])\n",
    "\n"
   ]
  },
  {
   "cell_type": "code",
   "execution_count": 10,
   "id": "aa6ba8f6",
   "metadata": {},
   "outputs": [],
   "source": [
    "## Create a function to bin timestamps into categories\n",
    "def quantitize(string):\n",
    "    time_hour = int(string[:2])\n",
    "    if time_hour < 6:\n",
    "        return 0\n",
    "    elif 6 <= time_hour < 12:\n",
    "        return 1\n",
    "    elif 12 <= time_hour <18:\n",
    "        return 2\n",
    "    else:\n",
    "        return 3\n"
   ]
  },
  {
   "cell_type": "code",
   "execution_count": 11,
   "id": "a720db08",
   "metadata": {},
   "outputs": [],
   "source": [
    "## \n",
    "data[\"trans_date_trans_time\"] = data[\"trans_date_trans_time\"].apply(quantitize)\n"
   ]
  },
  {
   "cell_type": "code",
   "execution_count": 12,
   "id": "b756ef25",
   "metadata": {},
   "outputs": [
    {
     "data": {
      "text/plain": [
       "trans_date_trans_time\n",
       "3    19819\n",
       "2    16133\n",
       "0    12714\n",
       "1    10407\n",
       "Name: count, dtype: int64"
      ]
     },
     "execution_count": 12,
     "metadata": {},
     "output_type": "execute_result"
    }
   ],
   "source": [
    "## Confirm with a value count and Check Final results should look like this:\n",
    "data[\"trans_date_trans_time\"].value_counts()\n"
   ]
  },
  {
   "cell_type": "code",
   "execution_count": 13,
   "id": "812c2260-86b6-468f-b84e-ce70f31ad711",
   "metadata": {},
   "outputs": [
    {
     "data": {
      "text/html": [
       "<div>\n",
       "<style scoped>\n",
       "    .dataframe tbody tr th:only-of-type {\n",
       "        vertical-align: middle;\n",
       "    }\n",
       "\n",
       "    .dataframe tbody tr th {\n",
       "        vertical-align: top;\n",
       "    }\n",
       "\n",
       "    .dataframe thead th {\n",
       "        text-align: right;\n",
       "    }\n",
       "</style>\n",
       "<table border=\"1\" class=\"dataframe\">\n",
       "  <thead>\n",
       "    <tr style=\"text-align: right;\">\n",
       "      <th></th>\n",
       "      <th>trans_date_trans_time</th>\n",
       "      <th>cc_num</th>\n",
       "      <th>merchant</th>\n",
       "      <th>category</th>\n",
       "      <th>amt</th>\n",
       "      <th>first</th>\n",
       "      <th>last</th>\n",
       "      <th>gender</th>\n",
       "      <th>street</th>\n",
       "      <th>city</th>\n",
       "      <th>state</th>\n",
       "      <th>zip</th>\n",
       "      <th>lat</th>\n",
       "      <th>long</th>\n",
       "      <th>city_pop</th>\n",
       "      <th>job</th>\n",
       "      <th>dob</th>\n",
       "      <th>merch_lat</th>\n",
       "      <th>merch_long</th>\n",
       "      <th>is_fraud</th>\n",
       "    </tr>\n",
       "  </thead>\n",
       "  <tbody>\n",
       "    <tr>\n",
       "      <th>0</th>\n",
       "      <td>0</td>\n",
       "      <td>2703186189652095</td>\n",
       "      <td>fraud_Rippin, Kub and Mann</td>\n",
       "      <td>misc_net</td>\n",
       "      <td>4.97</td>\n",
       "      <td>Jennifer</td>\n",
       "      <td>Banks</td>\n",
       "      <td>F</td>\n",
       "      <td>561 Perry Cove</td>\n",
       "      <td>Moravian Falls</td>\n",
       "      <td>NC</td>\n",
       "      <td>28654</td>\n",
       "      <td>36.0788</td>\n",
       "      <td>-81.1781</td>\n",
       "      <td>3495</td>\n",
       "      <td>Psychologist, counselling</td>\n",
       "      <td>1988-03-09</td>\n",
       "      <td>36.011293</td>\n",
       "      <td>-82.048315</td>\n",
       "      <td>0</td>\n",
       "    </tr>\n",
       "    <tr>\n",
       "      <th>1</th>\n",
       "      <td>0</td>\n",
       "      <td>343464013864032</td>\n",
       "      <td>fraud_Kunde-Sanford</td>\n",
       "      <td>misc_net</td>\n",
       "      <td>2.55</td>\n",
       "      <td>Jodi</td>\n",
       "      <td>Foster</td>\n",
       "      <td>F</td>\n",
       "      <td>551 Zachary Freeway</td>\n",
       "      <td>Bailey</td>\n",
       "      <td>NC</td>\n",
       "      <td>27807</td>\n",
       "      <td>35.8072</td>\n",
       "      <td>-78.0892</td>\n",
       "      <td>6629</td>\n",
       "      <td>Call centre manager</td>\n",
       "      <td>1962-08-13</td>\n",
       "      <td>36.749870</td>\n",
       "      <td>-78.677870</td>\n",
       "      <td>0</td>\n",
       "    </tr>\n",
       "    <tr>\n",
       "      <th>2</th>\n",
       "      <td>0</td>\n",
       "      <td>4265776278887457</td>\n",
       "      <td>fraud_Pacocha-O'Reilly</td>\n",
       "      <td>grocery_pos</td>\n",
       "      <td>103.00</td>\n",
       "      <td>Christine</td>\n",
       "      <td>Best</td>\n",
       "      <td>F</td>\n",
       "      <td>68248 Deanna Land</td>\n",
       "      <td>Enola</td>\n",
       "      <td>AR</td>\n",
       "      <td>72047</td>\n",
       "      <td>35.2087</td>\n",
       "      <td>-92.2123</td>\n",
       "      <td>969</td>\n",
       "      <td>Physicist, medical</td>\n",
       "      <td>1954-01-05</td>\n",
       "      <td>35.034285</td>\n",
       "      <td>-92.343010</td>\n",
       "      <td>0</td>\n",
       "    </tr>\n",
       "    <tr>\n",
       "      <th>3</th>\n",
       "      <td>0</td>\n",
       "      <td>571465035400</td>\n",
       "      <td>fraud_Reichert, Huels and Hoppe</td>\n",
       "      <td>shopping_net</td>\n",
       "      <td>113.40</td>\n",
       "      <td>Louis</td>\n",
       "      <td>Fisher</td>\n",
       "      <td>M</td>\n",
       "      <td>45654 Hess Rest</td>\n",
       "      <td>Fort Washakie</td>\n",
       "      <td>WY</td>\n",
       "      <td>82514</td>\n",
       "      <td>43.0048</td>\n",
       "      <td>-108.8964</td>\n",
       "      <td>1645</td>\n",
       "      <td>Freight forwarder</td>\n",
       "      <td>1976-02-26</td>\n",
       "      <td>42.868965</td>\n",
       "      <td>-108.503350</td>\n",
       "      <td>0</td>\n",
       "    </tr>\n",
       "    <tr>\n",
       "      <th>4</th>\n",
       "      <td>0</td>\n",
       "      <td>6593250708747804</td>\n",
       "      <td>fraud_Brekke and Sons</td>\n",
       "      <td>gas_transport</td>\n",
       "      <td>55.18</td>\n",
       "      <td>Melissa</td>\n",
       "      <td>Meza</td>\n",
       "      <td>F</td>\n",
       "      <td>244 Abbott Parkway</td>\n",
       "      <td>Loxahatchee</td>\n",
       "      <td>FL</td>\n",
       "      <td>33470</td>\n",
       "      <td>26.7383</td>\n",
       "      <td>-80.2760</td>\n",
       "      <td>26551</td>\n",
       "      <td>Paramedic</td>\n",
       "      <td>1977-01-04</td>\n",
       "      <td>27.346033</td>\n",
       "      <td>-80.475563</td>\n",
       "      <td>0</td>\n",
       "    </tr>\n",
       "    <tr>\n",
       "      <th>...</th>\n",
       "      <td>...</td>\n",
       "      <td>...</td>\n",
       "      <td>...</td>\n",
       "      <td>...</td>\n",
       "      <td>...</td>\n",
       "      <td>...</td>\n",
       "      <td>...</td>\n",
       "      <td>...</td>\n",
       "      <td>...</td>\n",
       "      <td>...</td>\n",
       "      <td>...</td>\n",
       "      <td>...</td>\n",
       "      <td>...</td>\n",
       "      <td>...</td>\n",
       "      <td>...</td>\n",
       "      <td>...</td>\n",
       "      <td>...</td>\n",
       "      <td>...</td>\n",
       "      <td>...</td>\n",
       "      <td>...</td>\n",
       "    </tr>\n",
       "    <tr>\n",
       "      <th>59068</th>\n",
       "      <td>0</td>\n",
       "      <td>3524574586339330</td>\n",
       "      <td>fraud_Kassulke PLC</td>\n",
       "      <td>shopping_net</td>\n",
       "      <td>977.01</td>\n",
       "      <td>Ashley</td>\n",
       "      <td>Cabrera</td>\n",
       "      <td>F</td>\n",
       "      <td>94225 Smith Springs Apt. 617</td>\n",
       "      <td>Vero Beach</td>\n",
       "      <td>FL</td>\n",
       "      <td>32960</td>\n",
       "      <td>27.6330</td>\n",
       "      <td>-80.4031</td>\n",
       "      <td>105638</td>\n",
       "      <td>Librarian, public</td>\n",
       "      <td>1986-05-07</td>\n",
       "      <td>26.888686</td>\n",
       "      <td>-80.834389</td>\n",
       "      <td>1</td>\n",
       "    </tr>\n",
       "    <tr>\n",
       "      <th>59069</th>\n",
       "      <td>0</td>\n",
       "      <td>3524574586339330</td>\n",
       "      <td>fraud_Schumm PLC</td>\n",
       "      <td>shopping_net</td>\n",
       "      <td>1210.91</td>\n",
       "      <td>Ashley</td>\n",
       "      <td>Cabrera</td>\n",
       "      <td>F</td>\n",
       "      <td>94225 Smith Springs Apt. 617</td>\n",
       "      <td>Vero Beach</td>\n",
       "      <td>FL</td>\n",
       "      <td>32960</td>\n",
       "      <td>27.6330</td>\n",
       "      <td>-80.4031</td>\n",
       "      <td>105638</td>\n",
       "      <td>Librarian, public</td>\n",
       "      <td>1986-05-07</td>\n",
       "      <td>28.216707</td>\n",
       "      <td>-79.855648</td>\n",
       "      <td>1</td>\n",
       "    </tr>\n",
       "    <tr>\n",
       "      <th>59070</th>\n",
       "      <td>0</td>\n",
       "      <td>4005676619255478</td>\n",
       "      <td>fraud_Tillman, Dickinson and Labadie</td>\n",
       "      <td>gas_transport</td>\n",
       "      <td>10.24</td>\n",
       "      <td>William</td>\n",
       "      <td>Perry</td>\n",
       "      <td>M</td>\n",
       "      <td>458 Phillips Island Apt. 768</td>\n",
       "      <td>Denham Springs</td>\n",
       "      <td>LA</td>\n",
       "      <td>70726</td>\n",
       "      <td>30.4590</td>\n",
       "      <td>-90.9027</td>\n",
       "      <td>71335</td>\n",
       "      <td>Herbalist</td>\n",
       "      <td>1994-05-31</td>\n",
       "      <td>29.700456</td>\n",
       "      <td>-91.361632</td>\n",
       "      <td>1</td>\n",
       "    </tr>\n",
       "    <tr>\n",
       "      <th>59071</th>\n",
       "      <td>0</td>\n",
       "      <td>3560725013359375</td>\n",
       "      <td>fraud_Corwin-Collins</td>\n",
       "      <td>gas_transport</td>\n",
       "      <td>21.69</td>\n",
       "      <td>Brooke</td>\n",
       "      <td>Smith</td>\n",
       "      <td>F</td>\n",
       "      <td>63542 Luna Brook Apt. 012</td>\n",
       "      <td>Notrees</td>\n",
       "      <td>TX</td>\n",
       "      <td>79759</td>\n",
       "      <td>31.8599</td>\n",
       "      <td>-102.7413</td>\n",
       "      <td>23</td>\n",
       "      <td>Cytogeneticist</td>\n",
       "      <td>1969-09-15</td>\n",
       "      <td>32.675272</td>\n",
       "      <td>-103.484949</td>\n",
       "      <td>1</td>\n",
       "    </tr>\n",
       "    <tr>\n",
       "      <th>59072</th>\n",
       "      <td>0</td>\n",
       "      <td>4005676619255478</td>\n",
       "      <td>fraud_Koss and Sons</td>\n",
       "      <td>gas_transport</td>\n",
       "      <td>10.20</td>\n",
       "      <td>William</td>\n",
       "      <td>Perry</td>\n",
       "      <td>M</td>\n",
       "      <td>458 Phillips Island Apt. 768</td>\n",
       "      <td>Denham Springs</td>\n",
       "      <td>LA</td>\n",
       "      <td>70726</td>\n",
       "      <td>30.4590</td>\n",
       "      <td>-90.9027</td>\n",
       "      <td>71335</td>\n",
       "      <td>Herbalist</td>\n",
       "      <td>1994-05-31</td>\n",
       "      <td>31.363252</td>\n",
       "      <td>-89.932309</td>\n",
       "      <td>1</td>\n",
       "    </tr>\n",
       "  </tbody>\n",
       "</table>\n",
       "<p>59073 rows × 20 columns</p>\n",
       "</div>"
      ],
      "text/plain": [
       "       trans_date_trans_time            cc_num  \\\n",
       "0                          0  2703186189652095   \n",
       "1                          0   343464013864032   \n",
       "2                          0  4265776278887457   \n",
       "3                          0      571465035400   \n",
       "4                          0  6593250708747804   \n",
       "...                      ...               ...   \n",
       "59068                      0  3524574586339330   \n",
       "59069                      0  3524574586339330   \n",
       "59070                      0  4005676619255478   \n",
       "59071                      0  3560725013359375   \n",
       "59072                      0  4005676619255478   \n",
       "\n",
       "                                   merchant       category      amt  \\\n",
       "0                fraud_Rippin, Kub and Mann       misc_net     4.97   \n",
       "1                       fraud_Kunde-Sanford       misc_net     2.55   \n",
       "2                    fraud_Pacocha-O'Reilly    grocery_pos   103.00   \n",
       "3           fraud_Reichert, Huels and Hoppe   shopping_net   113.40   \n",
       "4                     fraud_Brekke and Sons  gas_transport    55.18   \n",
       "...                                     ...            ...      ...   \n",
       "59068                    fraud_Kassulke PLC   shopping_net   977.01   \n",
       "59069                      fraud_Schumm PLC   shopping_net  1210.91   \n",
       "59070  fraud_Tillman, Dickinson and Labadie  gas_transport    10.24   \n",
       "59071                  fraud_Corwin-Collins  gas_transport    21.69   \n",
       "59072                   fraud_Koss and Sons  gas_transport    10.20   \n",
       "\n",
       "           first     last gender                        street  \\\n",
       "0       Jennifer    Banks      F                561 Perry Cove   \n",
       "1           Jodi   Foster      F           551 Zachary Freeway   \n",
       "2      Christine     Best      F             68248 Deanna Land   \n",
       "3          Louis   Fisher      M               45654 Hess Rest   \n",
       "4        Melissa     Meza      F            244 Abbott Parkway   \n",
       "...          ...      ...    ...                           ...   \n",
       "59068     Ashley  Cabrera      F  94225 Smith Springs Apt. 617   \n",
       "59069     Ashley  Cabrera      F  94225 Smith Springs Apt. 617   \n",
       "59070    William    Perry      M  458 Phillips Island Apt. 768   \n",
       "59071     Brooke    Smith      F     63542 Luna Brook Apt. 012   \n",
       "59072    William    Perry      M  458 Phillips Island Apt. 768   \n",
       "\n",
       "                 city state    zip      lat      long  city_pop  \\\n",
       "0      Moravian Falls    NC  28654  36.0788  -81.1781      3495   \n",
       "1              Bailey    NC  27807  35.8072  -78.0892      6629   \n",
       "2               Enola    AR  72047  35.2087  -92.2123       969   \n",
       "3       Fort Washakie    WY  82514  43.0048 -108.8964      1645   \n",
       "4         Loxahatchee    FL  33470  26.7383  -80.2760     26551   \n",
       "...               ...   ...    ...      ...       ...       ...   \n",
       "59068      Vero Beach    FL  32960  27.6330  -80.4031    105638   \n",
       "59069      Vero Beach    FL  32960  27.6330  -80.4031    105638   \n",
       "59070  Denham Springs    LA  70726  30.4590  -90.9027     71335   \n",
       "59071         Notrees    TX  79759  31.8599 -102.7413        23   \n",
       "59072  Denham Springs    LA  70726  30.4590  -90.9027     71335   \n",
       "\n",
       "                             job         dob  merch_lat  merch_long  is_fraud  \n",
       "0      Psychologist, counselling  1988-03-09  36.011293  -82.048315         0  \n",
       "1            Call centre manager  1962-08-13  36.749870  -78.677870         0  \n",
       "2             Physicist, medical  1954-01-05  35.034285  -92.343010         0  \n",
       "3              Freight forwarder  1976-02-26  42.868965 -108.503350         0  \n",
       "4                      Paramedic  1977-01-04  27.346033  -80.475563         0  \n",
       "...                          ...         ...        ...         ...       ...  \n",
       "59068          Librarian, public  1986-05-07  26.888686  -80.834389         1  \n",
       "59069          Librarian, public  1986-05-07  28.216707  -79.855648         1  \n",
       "59070                  Herbalist  1994-05-31  29.700456  -91.361632         1  \n",
       "59071             Cytogeneticist  1969-09-15  32.675272 -103.484949         1  \n",
       "59072                  Herbalist  1994-05-31  31.363252  -89.932309         1  \n",
       "\n",
       "[59073 rows x 20 columns]"
      ]
     },
     "execution_count": 13,
     "metadata": {},
     "output_type": "execute_result"
    }
   ],
   "source": [
    "data"
   ]
  },
  {
   "cell_type": "markdown",
   "id": "efa97c2a",
   "metadata": {},
   "source": [
    "#### 6. Create a Visual Correlation Matrix of Data Features"
   ]
  },
  {
   "cell_type": "markdown",
   "id": "0fa43be0",
   "metadata": {},
   "source": [
    "- Use seaborn to create a visualization heatmap matrix of the correlation between all the features and the label column. "
   ]
  },
  {
   "cell_type": "code",
   "execution_count": 14,
   "id": "2ac571bb",
   "metadata": {
    "scrolled": true
   },
   "outputs": [
    {
     "ename": "ValueError",
     "evalue": "could not convert string to float: 'fraud_Rippin, Kub and Mann'",
     "output_type": "error",
     "traceback": [
      "\u001b[1;31m---------------------------------------------------------------------------\u001b[0m",
      "\u001b[1;31mValueError\u001b[0m                                Traceback (most recent call last)",
      "Cell \u001b[1;32mIn[14], line 2\u001b[0m\n\u001b[0;32m      1\u001b[0m plt\u001b[38;5;241m.\u001b[39mfigure(figsize\u001b[38;5;241m=\u001b[39m(\u001b[38;5;241m15\u001b[39m,\u001b[38;5;241m10\u001b[39m),dpi\u001b[38;5;241m=\u001b[39m\u001b[38;5;241m150\u001b[39m)\n\u001b[1;32m----> 2\u001b[0m sns\u001b[38;5;241m.\u001b[39mheatmap(data\u001b[38;5;241m.\u001b[39mcorr(),vmin\u001b[38;5;241m=\u001b[39m\u001b[38;5;241m0\u001b[39m,vmax\u001b[38;5;241m=\u001b[39m\u001b[38;5;241m1\u001b[39m,cmap\u001b[38;5;241m=\u001b[39m\u001b[38;5;124m\"\u001b[39m\u001b[38;5;124mviridis\u001b[39m\u001b[38;5;124m\"\u001b[39m)\n",
      "File \u001b[1;32m~\\anaconda3\\Lib\\site-packages\\pandas\\core\\frame.py:10704\u001b[0m, in \u001b[0;36mDataFrame.corr\u001b[1;34m(self, method, min_periods, numeric_only)\u001b[0m\n\u001b[0;32m  10702\u001b[0m cols \u001b[38;5;241m=\u001b[39m data\u001b[38;5;241m.\u001b[39mcolumns\n\u001b[0;32m  10703\u001b[0m idx \u001b[38;5;241m=\u001b[39m cols\u001b[38;5;241m.\u001b[39mcopy()\n\u001b[1;32m> 10704\u001b[0m mat \u001b[38;5;241m=\u001b[39m data\u001b[38;5;241m.\u001b[39mto_numpy(dtype\u001b[38;5;241m=\u001b[39m\u001b[38;5;28mfloat\u001b[39m, na_value\u001b[38;5;241m=\u001b[39mnp\u001b[38;5;241m.\u001b[39mnan, copy\u001b[38;5;241m=\u001b[39m\u001b[38;5;28;01mFalse\u001b[39;00m)\n\u001b[0;32m  10706\u001b[0m \u001b[38;5;28;01mif\u001b[39;00m method \u001b[38;5;241m==\u001b[39m \u001b[38;5;124m\"\u001b[39m\u001b[38;5;124mpearson\u001b[39m\u001b[38;5;124m\"\u001b[39m:\n\u001b[0;32m  10707\u001b[0m     correl \u001b[38;5;241m=\u001b[39m libalgos\u001b[38;5;241m.\u001b[39mnancorr(mat, minp\u001b[38;5;241m=\u001b[39mmin_periods)\n",
      "File \u001b[1;32m~\\anaconda3\\Lib\\site-packages\\pandas\\core\\frame.py:1889\u001b[0m, in \u001b[0;36mDataFrame.to_numpy\u001b[1;34m(self, dtype, copy, na_value)\u001b[0m\n\u001b[0;32m   1887\u001b[0m \u001b[38;5;28;01mif\u001b[39;00m dtype \u001b[38;5;129;01mis\u001b[39;00m \u001b[38;5;129;01mnot\u001b[39;00m \u001b[38;5;28;01mNone\u001b[39;00m:\n\u001b[0;32m   1888\u001b[0m     dtype \u001b[38;5;241m=\u001b[39m np\u001b[38;5;241m.\u001b[39mdtype(dtype)\n\u001b[1;32m-> 1889\u001b[0m result \u001b[38;5;241m=\u001b[39m \u001b[38;5;28mself\u001b[39m\u001b[38;5;241m.\u001b[39m_mgr\u001b[38;5;241m.\u001b[39mas_array(dtype\u001b[38;5;241m=\u001b[39mdtype, copy\u001b[38;5;241m=\u001b[39mcopy, na_value\u001b[38;5;241m=\u001b[39mna_value)\n\u001b[0;32m   1890\u001b[0m \u001b[38;5;28;01mif\u001b[39;00m result\u001b[38;5;241m.\u001b[39mdtype \u001b[38;5;129;01mis\u001b[39;00m \u001b[38;5;129;01mnot\u001b[39;00m dtype:\n\u001b[0;32m   1891\u001b[0m     result \u001b[38;5;241m=\u001b[39m np\u001b[38;5;241m.\u001b[39marray(result, dtype\u001b[38;5;241m=\u001b[39mdtype, copy\u001b[38;5;241m=\u001b[39m\u001b[38;5;28;01mFalse\u001b[39;00m)\n",
      "File \u001b[1;32m~\\anaconda3\\Lib\\site-packages\\pandas\\core\\internals\\managers.py:1656\u001b[0m, in \u001b[0;36mBlockManager.as_array\u001b[1;34m(self, dtype, copy, na_value)\u001b[0m\n\u001b[0;32m   1654\u001b[0m         arr\u001b[38;5;241m.\u001b[39mflags\u001b[38;5;241m.\u001b[39mwriteable \u001b[38;5;241m=\u001b[39m \u001b[38;5;28;01mFalse\u001b[39;00m\n\u001b[0;32m   1655\u001b[0m \u001b[38;5;28;01melse\u001b[39;00m:\n\u001b[1;32m-> 1656\u001b[0m     arr \u001b[38;5;241m=\u001b[39m \u001b[38;5;28mself\u001b[39m\u001b[38;5;241m.\u001b[39m_interleave(dtype\u001b[38;5;241m=\u001b[39mdtype, na_value\u001b[38;5;241m=\u001b[39mna_value)\n\u001b[0;32m   1657\u001b[0m     \u001b[38;5;66;03m# The underlying data was copied within _interleave, so no need\u001b[39;00m\n\u001b[0;32m   1658\u001b[0m     \u001b[38;5;66;03m# to further copy if copy=True or setting na_value\u001b[39;00m\n\u001b[0;32m   1660\u001b[0m \u001b[38;5;28;01mif\u001b[39;00m na_value \u001b[38;5;129;01mis\u001b[39;00m lib\u001b[38;5;241m.\u001b[39mno_default:\n",
      "File \u001b[1;32m~\\anaconda3\\Lib\\site-packages\\pandas\\core\\internals\\managers.py:1715\u001b[0m, in \u001b[0;36mBlockManager._interleave\u001b[1;34m(self, dtype, na_value)\u001b[0m\n\u001b[0;32m   1713\u001b[0m     \u001b[38;5;28;01melse\u001b[39;00m:\n\u001b[0;32m   1714\u001b[0m         arr \u001b[38;5;241m=\u001b[39m blk\u001b[38;5;241m.\u001b[39mget_values(dtype)\n\u001b[1;32m-> 1715\u001b[0m     result[rl\u001b[38;5;241m.\u001b[39mindexer] \u001b[38;5;241m=\u001b[39m arr\n\u001b[0;32m   1716\u001b[0m     itemmask[rl\u001b[38;5;241m.\u001b[39mindexer] \u001b[38;5;241m=\u001b[39m \u001b[38;5;241m1\u001b[39m\n\u001b[0;32m   1718\u001b[0m \u001b[38;5;28;01mif\u001b[39;00m \u001b[38;5;129;01mnot\u001b[39;00m itemmask\u001b[38;5;241m.\u001b[39mall():\n",
      "\u001b[1;31mValueError\u001b[0m: could not convert string to float: 'fraud_Rippin, Kub and Mann'"
     ]
    },
    {
     "data": {
      "text/plain": [
       "<Figure size 2250x1500 with 0 Axes>"
      ]
     },
     "metadata": {},
     "output_type": "display_data"
    }
   ],
   "source": [
    "plt.figure(figsize=(15,10),dpi=150)\n",
    "sns.heatmap(data.corr(numeric_only=True),vmin=0,vmax=1,cmap=\"viridis\")"
   ]
  },
  {
   "cell_type": "markdown",
   "id": "9f0c06d6",
   "metadata": {},
   "source": [
    "**Note:** We can notice that how the amount spent, and long and lat location information are by far the most correlated features to fraud."
   ]
  },
  {
   "cell_type": "markdown",
   "id": "878a694d",
   "metadata": {},
   "source": [
    "#### 7. Encode Categorical Data Features"
   ]
  },
  {
   "cell_type": "markdown",
   "id": "2afcbc5d",
   "metadata": {},
   "source": [
    "- Using the Pandas DataFrame and Scikit-Learn, we use Label Encoding to encode the categorical features in the DataFrame."
   ]
  },
  {
   "cell_type": "code",
   "execution_count": 28,
   "id": "01f00938",
   "metadata": {},
   "outputs": [],
   "source": [
    "## create the encoder\n",
    "encoder = LabelEncoder()"
   ]
  },
  {
   "cell_type": "code",
   "execution_count": 29,
   "id": "42debda2",
   "metadata": {},
   "outputs": [],
   "source": [
    "### Get the categorical features with Pandas\n",
    "\n",
    "categorical_features = data.select_dtypes(include=['object']).columns"
   ]
  },
  {
   "cell_type": "code",
   "execution_count": 30,
   "id": "6a66c7bc",
   "metadata": {},
   "outputs": [],
   "source": [
    "### Apply fit_transform to create the encoded category data columns\n",
    "data_encoded = data.copy()\n",
    "data_encoded[categorical_features] = data_encoded[categorical_features].apply(encoder.fit_transform) \n"
   ]
  },
  {
   "cell_type": "code",
   "execution_count": 31,
   "id": "00a1eb44",
   "metadata": {},
   "outputs": [
    {
     "data": {
      "text/html": [
       "<div>\n",
       "<style scoped>\n",
       "    .dataframe tbody tr th:only-of-type {\n",
       "        vertical-align: middle;\n",
       "    }\n",
       "\n",
       "    .dataframe tbody tr th {\n",
       "        vertical-align: top;\n",
       "    }\n",
       "\n",
       "    .dataframe thead th {\n",
       "        text-align: right;\n",
       "    }\n",
       "</style>\n",
       "<table border=\"1\" class=\"dataframe\">\n",
       "  <thead>\n",
       "    <tr style=\"text-align: right;\">\n",
       "      <th></th>\n",
       "      <th>trans_date_trans_time</th>\n",
       "      <th>cc_num</th>\n",
       "      <th>merchant</th>\n",
       "      <th>category</th>\n",
       "      <th>amt</th>\n",
       "      <th>first</th>\n",
       "      <th>last</th>\n",
       "      <th>gender</th>\n",
       "      <th>street</th>\n",
       "      <th>city</th>\n",
       "      <th>state</th>\n",
       "      <th>zip</th>\n",
       "      <th>lat</th>\n",
       "      <th>long</th>\n",
       "      <th>city_pop</th>\n",
       "      <th>job</th>\n",
       "      <th>dob</th>\n",
       "      <th>merch_lat</th>\n",
       "      <th>merch_long</th>\n",
       "      <th>is_fraud</th>\n",
       "    </tr>\n",
       "  </thead>\n",
       "  <tbody>\n",
       "    <tr>\n",
       "      <th>0</th>\n",
       "      <td>0</td>\n",
       "      <td>2703186189652095</td>\n",
       "      <td>514</td>\n",
       "      <td>8</td>\n",
       "      <td>4.97</td>\n",
       "      <td>162</td>\n",
       "      <td>18</td>\n",
       "      <td>0</td>\n",
       "      <td>568</td>\n",
       "      <td>526</td>\n",
       "      <td>27</td>\n",
       "      <td>28654</td>\n",
       "      <td>36.0788</td>\n",
       "      <td>-81.1781</td>\n",
       "      <td>3495</td>\n",
       "      <td>370</td>\n",
       "      <td>779</td>\n",
       "      <td>36.011293</td>\n",
       "      <td>-82.048315</td>\n",
       "      <td>0</td>\n",
       "    </tr>\n",
       "    <tr>\n",
       "      <th>1</th>\n",
       "      <td>0</td>\n",
       "      <td>343464013864032</td>\n",
       "      <td>351</td>\n",
       "      <td>8</td>\n",
       "      <td>2.55</td>\n",
       "      <td>171</td>\n",
       "      <td>138</td>\n",
       "      <td>0</td>\n",
       "      <td>552</td>\n",
       "      <td>45</td>\n",
       "      <td>27</td>\n",
       "      <td>27807</td>\n",
       "      <td>35.8072</td>\n",
       "      <td>-78.0892</td>\n",
       "      <td>6629</td>\n",
       "      <td>59</td>\n",
       "      <td>317</td>\n",
       "      <td>36.749870</td>\n",
       "      <td>-78.677870</td>\n",
       "      <td>0</td>\n",
       "    </tr>\n",
       "    <tr>\n",
       "      <th>2</th>\n",
       "      <td>0</td>\n",
       "      <td>4265776278887457</td>\n",
       "      <td>468</td>\n",
       "      <td>4</td>\n",
       "      <td>103.00</td>\n",
       "      <td>73</td>\n",
       "      <td>30</td>\n",
       "      <td>0</td>\n",
       "      <td>681</td>\n",
       "      <td>250</td>\n",
       "      <td>2</td>\n",
       "      <td>72047</td>\n",
       "      <td>35.2087</td>\n",
       "      <td>-92.2123</td>\n",
       "      <td>969</td>\n",
       "      <td>337</td>\n",
       "      <td>182</td>\n",
       "      <td>35.034285</td>\n",
       "      <td>-92.343010</td>\n",
       "      <td>0</td>\n",
       "    </tr>\n",
       "    <tr>\n",
       "      <th>3</th>\n",
       "      <td>0</td>\n",
       "      <td>571465035400</td>\n",
       "      <td>502</td>\n",
       "      <td>11</td>\n",
       "      <td>113.40</td>\n",
       "      <td>222</td>\n",
       "      <td>127</td>\n",
       "      <td>1</td>\n",
       "      <td>464</td>\n",
       "      <td>272</td>\n",
       "      <td>50</td>\n",
       "      <td>82514</td>\n",
       "      <td>43.0048</td>\n",
       "      <td>-108.8964</td>\n",
       "      <td>1645</td>\n",
       "      <td>202</td>\n",
       "      <td>572</td>\n",
       "      <td>42.868965</td>\n",
       "      <td>-108.503350</td>\n",
       "      <td>0</td>\n",
       "    </tr>\n",
       "    <tr>\n",
       "      <th>4</th>\n",
       "      <td>0</td>\n",
       "      <td>6593250708747804</td>\n",
       "      <td>77</td>\n",
       "      <td>2</td>\n",
       "      <td>55.18</td>\n",
       "      <td>239</td>\n",
       "      <td>285</td>\n",
       "      <td>0</td>\n",
       "      <td>236</td>\n",
       "      <td>463</td>\n",
       "      <td>9</td>\n",
       "      <td>33470</td>\n",
       "      <td>26.7383</td>\n",
       "      <td>-80.2760</td>\n",
       "      <td>26551</td>\n",
       "      <td>327</td>\n",
       "      <td>589</td>\n",
       "      <td>27.346033</td>\n",
       "      <td>-80.475563</td>\n",
       "      <td>0</td>\n",
       "    </tr>\n",
       "    <tr>\n",
       "      <th>...</th>\n",
       "      <td>...</td>\n",
       "      <td>...</td>\n",
       "      <td>...</td>\n",
       "      <td>...</td>\n",
       "      <td>...</td>\n",
       "      <td>...</td>\n",
       "      <td>...</td>\n",
       "      <td>...</td>\n",
       "      <td>...</td>\n",
       "      <td>...</td>\n",
       "      <td>...</td>\n",
       "      <td>...</td>\n",
       "      <td>...</td>\n",
       "      <td>...</td>\n",
       "      <td>...</td>\n",
       "      <td>...</td>\n",
       "      <td>...</td>\n",
       "      <td>...</td>\n",
       "      <td>...</td>\n",
       "      <td>...</td>\n",
       "    </tr>\n",
       "    <tr>\n",
       "      <th>59068</th>\n",
       "      <td>0</td>\n",
       "      <td>3524574586339330</td>\n",
       "      <td>295</td>\n",
       "      <td>11</td>\n",
       "      <td>977.01</td>\n",
       "      <td>27</td>\n",
       "      <td>54</td>\n",
       "      <td>0</td>\n",
       "      <td>928</td>\n",
       "      <td>829</td>\n",
       "      <td>9</td>\n",
       "      <td>32960</td>\n",
       "      <td>27.6330</td>\n",
       "      <td>-80.4031</td>\n",
       "      <td>105638</td>\n",
       "      <td>271</td>\n",
       "      <td>741</td>\n",
       "      <td>26.888686</td>\n",
       "      <td>-80.834389</td>\n",
       "      <td>1</td>\n",
       "    </tr>\n",
       "    <tr>\n",
       "      <th>59069</th>\n",
       "      <td>0</td>\n",
       "      <td>3524574586339330</td>\n",
       "      <td>571</td>\n",
       "      <td>11</td>\n",
       "      <td>1210.91</td>\n",
       "      <td>27</td>\n",
       "      <td>54</td>\n",
       "      <td>0</td>\n",
       "      <td>928</td>\n",
       "      <td>829</td>\n",
       "      <td>9</td>\n",
       "      <td>32960</td>\n",
       "      <td>27.6330</td>\n",
       "      <td>-80.4031</td>\n",
       "      <td>105638</td>\n",
       "      <td>271</td>\n",
       "      <td>741</td>\n",
       "      <td>28.216707</td>\n",
       "      <td>-79.855648</td>\n",
       "      <td>1</td>\n",
       "    </tr>\n",
       "    <tr>\n",
       "      <th>59070</th>\n",
       "      <td>0</td>\n",
       "      <td>4005676619255478</td>\n",
       "      <td>622</td>\n",
       "      <td>2</td>\n",
       "      <td>10.24</td>\n",
       "      <td>348</td>\n",
       "      <td>339</td>\n",
       "      <td>1</td>\n",
       "      <td>465</td>\n",
       "      <td>209</td>\n",
       "      <td>18</td>\n",
       "      <td>70726</td>\n",
       "      <td>30.4590</td>\n",
       "      <td>-90.9027</td>\n",
       "      <td>71335</td>\n",
       "      <td>222</td>\n",
       "      <td>880</td>\n",
       "      <td>29.700456</td>\n",
       "      <td>-91.361632</td>\n",
       "      <td>1</td>\n",
       "    </tr>\n",
       "    <tr>\n",
       "      <th>59071</th>\n",
       "      <td>0</td>\n",
       "      <td>3560725013359375</td>\n",
       "      <td>107</td>\n",
       "      <td>2</td>\n",
       "      <td>21.69</td>\n",
       "      <td>51</td>\n",
       "      <td>404</td>\n",
       "      <td>0</td>\n",
       "      <td>640</td>\n",
       "      <td>592</td>\n",
       "      <td>43</td>\n",
       "      <td>79759</td>\n",
       "      <td>31.8599</td>\n",
       "      <td>-102.7413</td>\n",
       "      <td>23</td>\n",
       "      <td>115</td>\n",
       "      <td>446</td>\n",
       "      <td>32.675272</td>\n",
       "      <td>-103.484949</td>\n",
       "      <td>1</td>\n",
       "    </tr>\n",
       "    <tr>\n",
       "      <th>59072</th>\n",
       "      <td>0</td>\n",
       "      <td>4005676619255478</td>\n",
       "      <td>332</td>\n",
       "      <td>2</td>\n",
       "      <td>10.20</td>\n",
       "      <td>348</td>\n",
       "      <td>339</td>\n",
       "      <td>1</td>\n",
       "      <td>465</td>\n",
       "      <td>209</td>\n",
       "      <td>18</td>\n",
       "      <td>70726</td>\n",
       "      <td>30.4590</td>\n",
       "      <td>-90.9027</td>\n",
       "      <td>71335</td>\n",
       "      <td>222</td>\n",
       "      <td>880</td>\n",
       "      <td>31.363252</td>\n",
       "      <td>-89.932309</td>\n",
       "      <td>1</td>\n",
       "    </tr>\n",
       "  </tbody>\n",
       "</table>\n",
       "<p>59073 rows × 20 columns</p>\n",
       "</div>"
      ],
      "text/plain": [
       "       trans_date_trans_time            cc_num  merchant  category      amt  \\\n",
       "0                          0  2703186189652095       514         8     4.97   \n",
       "1                          0   343464013864032       351         8     2.55   \n",
       "2                          0  4265776278887457       468         4   103.00   \n",
       "3                          0      571465035400       502        11   113.40   \n",
       "4                          0  6593250708747804        77         2    55.18   \n",
       "...                      ...               ...       ...       ...      ...   \n",
       "59068                      0  3524574586339330       295        11   977.01   \n",
       "59069                      0  3524574586339330       571        11  1210.91   \n",
       "59070                      0  4005676619255478       622         2    10.24   \n",
       "59071                      0  3560725013359375       107         2    21.69   \n",
       "59072                      0  4005676619255478       332         2    10.20   \n",
       "\n",
       "       first  last  gender  street  city  state    zip      lat      long  \\\n",
       "0        162    18       0     568   526     27  28654  36.0788  -81.1781   \n",
       "1        171   138       0     552    45     27  27807  35.8072  -78.0892   \n",
       "2         73    30       0     681   250      2  72047  35.2087  -92.2123   \n",
       "3        222   127       1     464   272     50  82514  43.0048 -108.8964   \n",
       "4        239   285       0     236   463      9  33470  26.7383  -80.2760   \n",
       "...      ...   ...     ...     ...   ...    ...    ...      ...       ...   \n",
       "59068     27    54       0     928   829      9  32960  27.6330  -80.4031   \n",
       "59069     27    54       0     928   829      9  32960  27.6330  -80.4031   \n",
       "59070    348   339       1     465   209     18  70726  30.4590  -90.9027   \n",
       "59071     51   404       0     640   592     43  79759  31.8599 -102.7413   \n",
       "59072    348   339       1     465   209     18  70726  30.4590  -90.9027   \n",
       "\n",
       "       city_pop  job  dob  merch_lat  merch_long  is_fraud  \n",
       "0          3495  370  779  36.011293  -82.048315         0  \n",
       "1          6629   59  317  36.749870  -78.677870         0  \n",
       "2           969  337  182  35.034285  -92.343010         0  \n",
       "3          1645  202  572  42.868965 -108.503350         0  \n",
       "4         26551  327  589  27.346033  -80.475563         0  \n",
       "...         ...  ...  ...        ...         ...       ...  \n",
       "59068    105638  271  741  26.888686  -80.834389         1  \n",
       "59069    105638  271  741  28.216707  -79.855648         1  \n",
       "59070     71335  222  880  29.700456  -91.361632         1  \n",
       "59071        23  115  446  32.675272 -103.484949         1  \n",
       "59072     71335  222  880  31.363252  -89.932309         1  \n",
       "\n",
       "[59073 rows x 20 columns]"
      ]
     },
     "execution_count": 31,
     "metadata": {},
     "output_type": "execute_result"
    }
   ],
   "source": [
    "# Display dataframe\n",
    "data_encoded"
   ]
  },
  {
   "cell_type": "markdown",
   "id": "676b5ed5",
   "metadata": {},
   "source": [
    "#### 8. Perform a Train-Test Split on the Data and make it ready for training"
   ]
  },
  {
   "cell_type": "markdown",
   "id": "d8fcdaf6",
   "metadata": {},
   "source": [
    "- Use a test size of 10% of the total data set."
   ]
  },
  {
   "cell_type": "code",
   "execution_count": null,
   "id": "532fe153",
   "metadata": {},
   "outputs": [],
   "source": [
    "from sklearn.model_selection import train_test_split"
   ]
  },
  {
   "cell_type": "code",
   "execution_count": 32,
   "id": "a9573939",
   "metadata": {},
   "outputs": [],
   "source": [
    "### Separate Features and Label\n",
    "data_encoded, labels = data_encoded.drop(\"is_fraud\", axis=1), data_encoded[\"is_fraud\"]\n"
   ]
  },
  {
   "cell_type": "code",
   "execution_count": 33,
   "id": "e7fcf540",
   "metadata": {},
   "outputs": [],
   "source": [
    "\n",
    "### Perform the split\n",
    "\n",
    "X_train, X_test, y_train, y_test = train_test_split(data_encoded, labels, test_size = 0.1, random_state = 42)\n"
   ]
  },
  {
   "cell_type": "code",
   "execution_count": 39,
   "id": "79f2bd2d",
   "metadata": {},
   "outputs": [
    {
     "name": "stdout",
     "output_type": "stream",
     "text": [
      "X_train: (53165, 19)\n",
      "X_test: (5908, 19)\n",
      "y_train: (53165,)\n",
      "y_test: (5908,)\n"
     ]
    }
   ],
   "source": [
    "print(\"X_train:\", X_train.shape) \n",
    "print(\"X_test:\", X_test.shape)\n",
    "print(\"y_train:\", y_train.shape)\n",
    "print(\"y_test:\", y_test.shape)"
   ]
  },
  {
   "cell_type": "markdown",
   "id": "7938e496",
   "metadata": {},
   "source": [
    "#### 9. Train a Random Forest Classifier Model"
   ]
  },
  {
   "cell_type": "markdown",
   "id": "38b48676",
   "metadata": {},
   "source": [
    "- Using Scikit-Learn create and train a random forest classifier on the training data set"
   ]
  },
  {
   "cell_type": "code",
   "execution_count": 40,
   "id": "6dbdca39",
   "metadata": {},
   "outputs": [],
   "source": [
    "from sklearn.ensemble import RandomForestClassifier"
   ]
  },
  {
   "cell_type": "code",
   "execution_count": 41,
   "id": "50418dac",
   "metadata": {},
   "outputs": [],
   "source": [
    "## Create the instance of the model (you can also edit hyperparameters further)\n",
    "\n",
    "classifier = RandomForestClassifier(class_weight='balanced')"
   ]
  },
  {
   "cell_type": "code",
   "execution_count": 42,
   "id": "a48797a8",
   "metadata": {},
   "outputs": [
    {
     "data": {
      "text/html": [
       "<style>#sk-container-id-1 {color: black;background-color: white;}#sk-container-id-1 pre{padding: 0;}#sk-container-id-1 div.sk-toggleable {background-color: white;}#sk-container-id-1 label.sk-toggleable__label {cursor: pointer;display: block;width: 100%;margin-bottom: 0;padding: 0.3em;box-sizing: border-box;text-align: center;}#sk-container-id-1 label.sk-toggleable__label-arrow:before {content: \"▸\";float: left;margin-right: 0.25em;color: #696969;}#sk-container-id-1 label.sk-toggleable__label-arrow:hover:before {color: black;}#sk-container-id-1 div.sk-estimator:hover label.sk-toggleable__label-arrow:before {color: black;}#sk-container-id-1 div.sk-toggleable__content {max-height: 0;max-width: 0;overflow: hidden;text-align: left;background-color: #f0f8ff;}#sk-container-id-1 div.sk-toggleable__content pre {margin: 0.2em;color: black;border-radius: 0.25em;background-color: #f0f8ff;}#sk-container-id-1 input.sk-toggleable__control:checked~div.sk-toggleable__content {max-height: 200px;max-width: 100%;overflow: auto;}#sk-container-id-1 input.sk-toggleable__control:checked~label.sk-toggleable__label-arrow:before {content: \"▾\";}#sk-container-id-1 div.sk-estimator input.sk-toggleable__control:checked~label.sk-toggleable__label {background-color: #d4ebff;}#sk-container-id-1 div.sk-label input.sk-toggleable__control:checked~label.sk-toggleable__label {background-color: #d4ebff;}#sk-container-id-1 input.sk-hidden--visually {border: 0;clip: rect(1px 1px 1px 1px);clip: rect(1px, 1px, 1px, 1px);height: 1px;margin: -1px;overflow: hidden;padding: 0;position: absolute;width: 1px;}#sk-container-id-1 div.sk-estimator {font-family: monospace;background-color: #f0f8ff;border: 1px dotted black;border-radius: 0.25em;box-sizing: border-box;margin-bottom: 0.5em;}#sk-container-id-1 div.sk-estimator:hover {background-color: #d4ebff;}#sk-container-id-1 div.sk-parallel-item::after {content: \"\";width: 100%;border-bottom: 1px solid gray;flex-grow: 1;}#sk-container-id-1 div.sk-label:hover label.sk-toggleable__label {background-color: #d4ebff;}#sk-container-id-1 div.sk-serial::before {content: \"\";position: absolute;border-left: 1px solid gray;box-sizing: border-box;top: 0;bottom: 0;left: 50%;z-index: 0;}#sk-container-id-1 div.sk-serial {display: flex;flex-direction: column;align-items: center;background-color: white;padding-right: 0.2em;padding-left: 0.2em;position: relative;}#sk-container-id-1 div.sk-item {position: relative;z-index: 1;}#sk-container-id-1 div.sk-parallel {display: flex;align-items: stretch;justify-content: center;background-color: white;position: relative;}#sk-container-id-1 div.sk-item::before, #sk-container-id-1 div.sk-parallel-item::before {content: \"\";position: absolute;border-left: 1px solid gray;box-sizing: border-box;top: 0;bottom: 0;left: 50%;z-index: -1;}#sk-container-id-1 div.sk-parallel-item {display: flex;flex-direction: column;z-index: 1;position: relative;background-color: white;}#sk-container-id-1 div.sk-parallel-item:first-child::after {align-self: flex-end;width: 50%;}#sk-container-id-1 div.sk-parallel-item:last-child::after {align-self: flex-start;width: 50%;}#sk-container-id-1 div.sk-parallel-item:only-child::after {width: 0;}#sk-container-id-1 div.sk-dashed-wrapped {border: 1px dashed gray;margin: 0 0.4em 0.5em 0.4em;box-sizing: border-box;padding-bottom: 0.4em;background-color: white;}#sk-container-id-1 div.sk-label label {font-family: monospace;font-weight: bold;display: inline-block;line-height: 1.2em;}#sk-container-id-1 div.sk-label-container {text-align: center;}#sk-container-id-1 div.sk-container {/* jupyter's `normalize.less` sets `[hidden] { display: none; }` but bootstrap.min.css set `[hidden] { display: none !important; }` so we also need the `!important` here to be able to override the default hidden behavior on the sphinx rendered scikit-learn.org. See: https://github.com/scikit-learn/scikit-learn/issues/21755 */display: inline-block !important;position: relative;}#sk-container-id-1 div.sk-text-repr-fallback {display: none;}</style><div id=\"sk-container-id-1\" class=\"sk-top-container\"><div class=\"sk-text-repr-fallback\"><pre>RandomForestClassifier(class_weight=&#x27;balanced&#x27;)</pre><b>In a Jupyter environment, please rerun this cell to show the HTML representation or trust the notebook. <br />On GitHub, the HTML representation is unable to render, please try loading this page with nbviewer.org.</b></div><div class=\"sk-container\" hidden><div class=\"sk-item\"><div class=\"sk-estimator sk-toggleable\"><input class=\"sk-toggleable__control sk-hidden--visually\" id=\"sk-estimator-id-1\" type=\"checkbox\" checked><label for=\"sk-estimator-id-1\" class=\"sk-toggleable__label sk-toggleable__label-arrow\">RandomForestClassifier</label><div class=\"sk-toggleable__content\"><pre>RandomForestClassifier(class_weight=&#x27;balanced&#x27;)</pre></div></div></div></div></div>"
      ],
      "text/plain": [
       "RandomForestClassifier(class_weight='balanced')"
      ]
     },
     "execution_count": 42,
     "metadata": {},
     "output_type": "execute_result"
    }
   ],
   "source": [
    "## Fit the classifier to the training data set\n",
    "\n",
    "classifier.fit(X_train, y_train)"
   ]
  },
  {
   "cell_type": "code",
   "execution_count": 49,
   "id": "480ee42f",
   "metadata": {},
   "outputs": [
    {
     "data": {
      "text/plain": [
       "['../models']"
      ]
     },
     "execution_count": 49,
     "metadata": {},
     "output_type": "execute_result"
    }
   ],
   "source": [
    "joblib.dump(classifier, \"../models\")"
   ]
  },
  {
   "cell_type": "markdown",
   "id": "8f0cc073",
   "metadata": {},
   "source": [
    "#### 10. Evaluate the Model on the Test Set\n",
    "- Using the trained Random Forest classifier, evaluate performance of the model on the test set using accuracy as the performance metric. \n",
    "- Also, create a confusion matrix on the results of the test data set."
   ]
  },
  {
   "cell_type": "code",
   "execution_count": 43,
   "id": "be7f6067",
   "metadata": {},
   "outputs": [],
   "source": [
    "from sklearn.metrics import accuracy_score, confusion_matrix"
   ]
  },
  {
   "cell_type": "code",
   "execution_count": 44,
   "id": "57dc657d",
   "metadata": {},
   "outputs": [],
   "source": [
    "## Create the predictions\n",
    "\n",
    "preds = classifier.predict(X_test)\n",
    "\n"
   ]
  },
  {
   "cell_type": "code",
   "execution_count": 45,
   "id": "49f60e8c",
   "metadata": {},
   "outputs": [
    {
     "data": {
      "text/plain": [
       "0.9808733920108328"
      ]
     },
     "execution_count": 45,
     "metadata": {},
     "output_type": "execute_result"
    }
   ],
   "source": [
    "## Calculate the accuracy\n",
    "\n",
    "accuracy_score(preds, y_test)\n"
   ]
  },
  {
   "cell_type": "code",
   "execution_count": 46,
   "id": "6dfaad26",
   "metadata": {},
   "outputs": [
    {
     "data": {
      "text/plain": [
       "array([[5113,   18],\n",
       "       [  95,  682]], dtype=int64)"
      ]
     },
     "execution_count": 46,
     "metadata": {},
     "output_type": "execute_result"
    }
   ],
   "source": [
    "## Create the confusion matrix\n",
    "\n",
    "confusion_matrix(y_test, preds)\n"
   ]
  },
  {
   "cell_type": "code",
   "execution_count": null,
   "id": "ebd52c93",
   "metadata": {},
   "outputs": [],
   "source": []
  }
 ],
 "metadata": {
  "kernelspec": {
   "display_name": "Python 3 (ipykernel)",
   "language": "python",
   "name": "python3"
  },
  "language_info": {
   "codemirror_mode": {
    "name": "ipython",
    "version": 3
   },
   "file_extension": ".py",
   "mimetype": "text/x-python",
   "name": "python",
   "nbconvert_exporter": "python",
   "pygments_lexer": "ipython3",
   "version": "3.11.7"
  }
 },
 "nbformat": 4,
 "nbformat_minor": 5
}
